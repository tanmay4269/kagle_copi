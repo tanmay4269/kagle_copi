{
 "cells": [
  {
   "cell_type": "code",
   "execution_count": 1,
   "metadata": {},
   "outputs": [
    {
     "name": "stdout",
     "output_type": "stream",
     "text": [
      "[[0.000e+00 3.006e+02 3.096e+02 1.596e+03 3.610e+01 1.400e+02 0.000e+00\n",
      "  0.000e+00 0.000e+00 0.000e+00 0.000e+00]\n",
      " [1.000e+00 3.026e+02 3.121e+02 1.759e+03 2.910e+01 2.000e+02 0.000e+00\n",
      "  0.000e+00 0.000e+00 0.000e+00 0.000e+00]\n",
      " [0.000e+00 2.993e+02 3.085e+02 1.805e+03 2.650e+01 2.500e+01 0.000e+00\n",
      "  0.000e+00 0.000e+00 0.000e+00 0.000e+00]\n",
      " [0.000e+00 3.010e+02 3.109e+02 1.524e+03 4.430e+01 1.970e+02 0.000e+00\n",
      "  0.000e+00 0.000e+00 0.000e+00 0.000e+00]\n",
      " [1.000e+00 2.980e+02 3.090e+02 1.641e+03 3.540e+01 3.400e+01 0.000e+00\n",
      "  0.000e+00 0.000e+00 0.000e+00 0.000e+00]]\n"
     ]
    }
   ],
   "source": [
    "import numpy as np\n",
    "import pandas as pd \n",
    "\n",
    "df_train = pd.read_csv(\"data/train.csv\")\n",
    "df_test = pd.read_csv(\"data/test.csv\")  # for final submission\n",
    "\n",
    "x_train = df_train.copy()\n",
    "x_train.drop('id', axis=1, inplace=True)\n",
    "x_train.drop('Product ID', axis=1, inplace=True)\n",
    "x_train.drop('Machine failure', axis=1, inplace=True)\n",
    "y_train = df_train[\"Machine failure\"]\n",
    "\n",
    "x_test = df_test.copy()\n",
    "x_test.drop('id', axis=1, inplace=True)\n",
    "x_test.drop('Product ID', axis=1, inplace=True)\n",
    "\n",
    "x_train = np.array(x_train)\n",
    "y_train = np.array(y_train, dtype=np.float32)\n",
    "x_test = np.array(x_test)\n",
    "\n",
    "lm_column = 0\n",
    "x_train[:, lm_column] = np.where(x_train[:, lm_column] == 'L', 0, 1)\n",
    "x_test[:, lm_column] = np.where(x_test[:, lm_column] == 'L', 0, 1)\n",
    "\n",
    "x_train = x_train.astype(np.float32)\n",
    "x_test = x_test.astype(np.float32)\n",
    "\n",
    "print(x_train[:5, :])"
   ]
  },
  {
   "cell_type": "code",
   "execution_count": 4,
   "metadata": {},
   "outputs": [
    {
     "name": "stdout",
     "output_type": "stream",
     "text": [
      "Cross-validation accuracy: 0.9510005130836326\n",
      "Test predictions: [1 1 1 ... 1 1 1]\n"
     ]
    }
   ],
   "source": [
    "from sklearn.ensemble import IsolationForest\n",
    "\n",
    "# Split the training set into x_train and x_cv\n",
    "split_index = int(len(x_train) * 0.8)  # 80% for training, 20% for cross-validation\n",
    "\n",
    "x_train_data = x_train[:split_index]\n",
    "x_cv_data = x_train[split_index:]\n",
    "\n",
    "# Train the anomaly detection model\n",
    "anomaly_detector = IsolationForest(contamination=0.05)  # Adjust the contamination parameter as needed\n",
    "anomaly_detector.fit(x_train_data)\n",
    "\n",
    "# Predict anomalies for x_cv_data\n",
    "cv_predictions = anomaly_detector.predict(x_cv_data)\n",
    "\n",
    "# Evaluate the performance of the anomaly detection model on x_cv_data\n",
    "cv_accuracy = (cv_predictions == 1).mean()  # Percentage of non-anomalous data points\n",
    "\n",
    "# Print the accuracy of the anomaly detection model\n",
    "print(\"Cross-validation accuracy:\", cv_accuracy)\n",
    "\n",
    "# Predict anomalies for x_test\n",
    "test_predictions = anomaly_detector.predict(x_test)\n",
    "\n",
    "# Print the predictions for x_test\n",
    "print(\"Test predictions:\", test_predictions)\n"
   ]
  },
  {
   "cell_type": "code",
   "execution_count": 7,
   "metadata": {},
   "outputs": [],
   "source": [
    "indices = np.array(df_test[\"id\"], dtype=int).reshape(-1, 1)\n",
    "predictions = np.where(test_predictions == -1, 1, 0)  # Consider -1 as anomalies (machine failure)\n",
    "submission = np.hstack((indices, predictions.reshape(-1, 1)))\n",
    "\n",
    "submission_df = pd.DataFrame(submission, columns=['id', 'Machine failure'])\n",
    "submission_df['id'] = submission_df['id'].astype(int)  # Convert \"id\" column to integer\n",
    "submission_df.to_csv(\"submissions/anomaly_detection.csv\", index=False)"
   ]
  }
 ],
 "metadata": {
  "kernelspec": {
   "display_name": "Python 3",
   "language": "python",
   "name": "python3"
  },
  "language_info": {
   "codemirror_mode": {
    "name": "ipython",
    "version": 3
   },
   "file_extension": ".py",
   "mimetype": "text/x-python",
   "name": "python",
   "nbconvert_exporter": "python",
   "pygments_lexer": "ipython3",
   "version": "3.11.4"
  },
  "orig_nbformat": 4
 },
 "nbformat": 4,
 "nbformat_minor": 2
}
