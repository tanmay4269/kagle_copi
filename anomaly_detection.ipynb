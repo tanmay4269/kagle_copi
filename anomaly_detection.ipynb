{
 "cells": [
  {
   "cell_type": "code",
   "execution_count": 4,
   "metadata": {},
   "outputs": [
    {
     "name": "stdout",
     "output_type": "stream",
     "text": [
      "[[0.000e+00 3.006e+02 3.096e+02 1.596e+03 3.610e+01 1.400e+02 0.000e+00\n",
      "  0.000e+00 0.000e+00 0.000e+00 0.000e+00]\n",
      " [1.000e+00 3.026e+02 3.121e+02 1.759e+03 2.910e+01 2.000e+02 0.000e+00\n",
      "  0.000e+00 0.000e+00 0.000e+00 0.000e+00]\n",
      " [0.000e+00 2.993e+02 3.085e+02 1.805e+03 2.650e+01 2.500e+01 0.000e+00\n",
      "  0.000e+00 0.000e+00 0.000e+00 0.000e+00]\n",
      " [0.000e+00 3.010e+02 3.109e+02 1.524e+03 4.430e+01 1.970e+02 0.000e+00\n",
      "  0.000e+00 0.000e+00 0.000e+00 0.000e+00]\n",
      " [1.000e+00 2.980e+02 3.090e+02 1.641e+03 3.540e+01 3.400e+01 0.000e+00\n",
      "  0.000e+00 0.000e+00 0.000e+00 0.000e+00]]\n"
     ]
    }
   ],
   "source": [
    "import numpy as np\n",
    "import pandas as pd \n",
    "\n",
    "df_train = pd.read_csv(\"data/train.csv\")\n",
    "df_test = pd.read_csv(\"data/test.csv\")  # for final submission\n",
    "\n",
    "x_train = df_train.copy()\n",
    "x_train.drop('id', axis=1, inplace=True)\n",
    "x_train.drop('Product ID', axis=1, inplace=True)\n",
    "x_train.drop('Machine failure', axis=1, inplace=True)\n",
    "y_train = df_train[\"Machine failure\"]\n",
    "\n",
    "x_test = df_test.copy()\n",
    "x_test.drop('id', axis=1, inplace=True)\n",
    "x_test.drop('Product ID', axis=1, inplace=True)\n",
    "\n",
    "x_train = np.array(x_train)\n",
    "y_train = np.array(y_train, dtype=np.float32)\n",
    "x_test = np.array(x_test)\n",
    "\n",
    "lm_column = 0\n",
    "x_train[:, lm_column] = np.where(x_train[:, lm_column] == 'L', 0, 1)\n",
    "x_test[:, lm_column] = np.where(x_test[:, lm_column] == 'L', 0, 1)\n",
    "\n",
    "x_train = x_train.astype(np.float32)\n",
    "x_test = x_test.astype(np.float32)\n",
    "\n",
    "print(x_train[:5, :])"
   ]
  },
  {
   "cell_type": "code",
   "execution_count": 5,
   "metadata": {},
   "outputs": [],
   "source": [
    "from sklearn.model_selection import train_test_split\n",
    "\n",
    "x_train, x_cv, y_train, y_cv = train_test_split(x_train, y_train, test_size=0.2, random_state=42)"
   ]
  },
  {
   "cell_type": "code",
   "execution_count": 6,
   "metadata": {},
   "outputs": [],
   "source": [
    "def estimate_gaussian(X):\n",
    "    m, n = X.shape\n",
    "\n",
    "    mu = 1/m * np.sum(X, axis=0)\n",
    "    var = 1/m * np.sum((X - mu)**2, axis=0)\n",
    "        \n",
    "    return mu, var"
   ]
  },
  {
   "cell_type": "code",
   "execution_count": 7,
   "metadata": {},
   "outputs": [],
   "source": [
    "def multivariate_gaussian(X, mu, var):    \n",
    "    k = len(mu)\n",
    "    \n",
    "    if var.ndim == 1:\n",
    "        var = np.diag(var)\n",
    "        \n",
    "    X = X - mu\n",
    "    p = (2* np.pi)**(-k/2) * np.linalg.det(var)**(-0.5) * \\\n",
    "        np.exp(-0.5 * np.sum(np.matmul(X, np.linalg.pinv(var)) * X, axis=1))\n",
    "    \n",
    "    return p"
   ]
  },
  {
   "cell_type": "code",
   "execution_count": 12,
   "metadata": {},
   "outputs": [],
   "source": [
    "def select_threshold(y_val, p_val): \n",
    "    best_epsilon = 0\n",
    "    best_F1 = 0\n",
    "    F1 = 0\n",
    "    \n",
    "    step_size = (max(p_val) - min(p_val)) / 1000\n",
    "    \n",
    "    for epsilon in np.arange(min(p_val), max(p_val), step_size):\n",
    "        predictions = (p_val < epsilon).astype(int)  # Predictions for each example using epsilon as threshold\n",
    "\n",
    "        tp = np.sum((predictions == 1) & (y_val == 1))  # Number of true positives\n",
    "        fp = np.sum((predictions == 1) & (y_val == 0))  # Number of false positives\n",
    "        fn = np.sum((predictions == 0) & (y_val == 1))  # Number of false negatives\n",
    "\n",
    "        if tp + fp == 0:\n",
    "            prec = 0  # Set precision to 0 when both tp and fp are zero\n",
    "        else:\n",
    "            prec = tp / (tp + fp)  # Precision\n",
    "            \n",
    "        rec = tp / (tp + fn)  # Recall\n",
    "\n",
    "        if prec + rec == 0:\n",
    "            F1 = 0  # Set F1 score to 0 when both prec and rec are zero\n",
    "        else:\n",
    "            F1 = 2 * prec * rec / (prec + rec)  # F1 score\n",
    "        \n",
    "        if F1 > best_F1:\n",
    "            best_F1 = F1\n",
    "            best_epsilon = epsilon\n",
    "        \n",
    "    return best_epsilon, best_F1"
   ]
  },
  {
   "cell_type": "code",
   "execution_count": 14,
   "metadata": {},
   "outputs": [
    {
     "name": "stdout",
     "output_type": "stream",
     "text": [
      "Best epsilon found using cross-validation: 9.045873e-07\n",
      "Best F1 on Cross Validation Set:  0.386079\n",
      "# Anomalies found: 5557\n"
     ]
    }
   ],
   "source": [
    "mu, var = estimate_gaussian(x_train)\n",
    "\n",
    "# Evaluate the probabilites for the training set\n",
    "p = multivariate_gaussian(x_train, mu, var)\n",
    "\n",
    "# Evaluate the probabilites for the cross validation set\n",
    "p_val = multivariate_gaussian(x_cv, mu, var)\n",
    "\n",
    "# Find the best threshold\n",
    "epsilon, F1 = select_threshold(y_cv, p_val)\n",
    "\n",
    "print('Best epsilon found using cross-validation: %e'% epsilon)\n",
    "print('Best F1 on Cross Validation Set:  %f'% F1)\n",
    "print('# Anomalies found: %d'% sum(p < epsilon))"
   ]
  },
  {
   "cell_type": "code",
   "execution_count": 19,
   "metadata": {},
   "outputs": [
    {
     "data": {
      "image/png": "[encoded data removed]",
      "text/plain": [
       "<Figure size 640x480 with 1 Axes>"
      ]
     },
     "metadata": {},
     "output_type": "display_data"
    }
   ],
   "source": [
    "import matplotlib.pyplot as plt \n",
    "\n",
    "plt.hist(p_val, bins=100)\n",
    "plt.show()"
   ]
  }
 ],
 "metadata": {
  "kernelspec": {
   "display_name": "Python 3",
   "language": "python",
   "name": "python3"
  },
  "language_info": {
   "codemirror_mode": {
    "name": "ipython",
    "version": 3
   },
   "file_extension": ".py",
   "mimetype": "text/x-python",
   "name": "python",
   "nbconvert_exporter": "python",
   "pygments_lexer": "ipython3",
   "version": "3.11.4"
  },
  "orig_nbformat": 4
 },
 "nbformat": 4,
 "nbformat_minor": 2
}
